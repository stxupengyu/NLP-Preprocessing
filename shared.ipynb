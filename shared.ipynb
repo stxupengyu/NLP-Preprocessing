{
 "cells": [
  {
   "cell_type": "code",
   "execution_count": 4,
   "metadata": {},
   "outputs": [],
   "source": [
    "import numpy as np\n",
    "data=np.load('data.npz',allow_pickle=True)\n",
    "word_to_id = np.load('word_to_id.npy',allow_pickle=True).item()\n",
    "word_to_id2 = np.load('word_to_id2.npy',allow_pickle=True).item()\n",
    "#分别把源数据和两个字典读取了"
   ]
  },
  {
   "cell_type": "code",
   "execution_count": 5,
   "metadata": {},
   "outputs": [],
   "source": [
    "#构造一个share字典 其中包含了两个原始字典共现单词的映射\n",
    "share={word_to_id2[x]:word_to_id[x] for x in word_to_id2 if x in word_to_id}\n",
    "with open(\"shared.txt\",\"w\") as f:\n",
    "        f.write(str(share)) "
   ]
  },
  {
   "cell_type": "code",
   "execution_count": 19,
   "metadata": {},
   "outputs": [
    {
     "name": "stdout",
     "output_type": "stream",
     "text": [
      "2892 193 3193\n"
     ]
    }
   ],
   "source": [
    "len(share),len(word_to_id),len(word_to_id2)\n",
    "print(len(word_to_id2)-len(share),len(word_to_id)-len(share),len(word_to_id2)+len(word_to_id)-len(share))\n",
    "#查看下他们都是多大 分别是共现单词的数量、tag中单词的数量以及body中单词的数量"
   ]
  },
  {
   "cell_type": "code",
   "execution_count": 13,
   "metadata": {},
   "outputs": [],
   "source": [
    "body=data['brs']\n",
    "tag=data['sfs']"
   ]
  },
  {
   "cell_type": "code",
   "execution_count": 14,
   "metadata": {},
   "outputs": [
    {
     "data": {
      "text/plain": [
       "6"
      ]
     },
     "execution_count": 14,
     "metadata": {},
     "output_type": "execute_result"
    }
   ],
   "source": [
    "#接下来分别计算下 最长的body和tag\n",
    "record=1\n",
    "for tagi in tag:\n",
    "    if(len(tagi)>=record):\n",
    "        record=len(tagi)\n",
    "record"
   ]
  },
  {
   "cell_type": "code",
   "execution_count": 15,
   "metadata": {},
   "outputs": [
    {
     "data": {
      "text/plain": [
       "1508"
      ]
     },
     "execution_count": 15,
     "metadata": {},
     "output_type": "execute_result"
    }
   ],
   "source": [
    "record=1\n",
    "for bodyi in body:\n",
    "    if(len(bodyi)>=record):\n",
    "        record=len(bodyi)\n",
    "record"
   ]
  },
  {
   "cell_type": "code",
   "execution_count": null,
   "metadata": {},
   "outputs": [],
   "source": []
  },
  {
   "cell_type": "code",
   "execution_count": null,
   "metadata": {},
   "outputs": [],
   "source": []
  },
  {
   "cell_type": "code",
   "execution_count": null,
   "metadata": {},
   "outputs": [],
   "source": []
  },
  {
   "cell_type": "code",
   "execution_count": null,
   "metadata": {},
   "outputs": [],
   "source": []
  }
 ],
 "metadata": {
  "kernelspec": {
   "display_name": "Python 3",
   "language": "python",
   "name": "python3"
  },
  "language_info": {
   "codemirror_mode": {
    "name": "ipython",
    "version": 3
   },
   "file_extension": ".py",
   "mimetype": "text/x-python",
   "name": "python",
   "nbconvert_exporter": "python",
   "pygments_lexer": "ipython3",
   "version": "3.5.5"
  }
 },
 "nbformat": 4,
 "nbformat_minor": 2
}
